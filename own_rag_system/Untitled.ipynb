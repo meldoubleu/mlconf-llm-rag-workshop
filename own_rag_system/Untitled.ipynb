{
 "cells": [
  {
   "cell_type": "code",
   "execution_count": 8,
   "id": "67c9f9be-a55d-43bd-816e-4964dd2cd114",
   "metadata": {},
   "outputs": [
    {
     "name": "stdout",
     "output_type": "stream",
     "text": [
      "Verarbeite Datei: PDF_data/faktenblatt-steuerliche-foerderung-energetischer-gebaeudesanierungen.pdf\n",
      "JSON-Datei gespeichert unter: PDF_data/faktenblatt-steuerliche-foerderung-energetischer-gebaeudesanierungen.json\n",
      "Verarbeite Datei: PDF_data/Regelheft_Expertenliste.pdf\n",
      "JSON-Datei gespeichert unter: PDF_data/Regelheft_Expertenliste.json\n",
      "Verarbeite Datei: PDF_data/iSFP-Handbuch-Energieberater.pdf\n",
      "JSON-Datei gespeichert unter: PDF_data/iSFP-Handbuch-Energieberater.json\n",
      "Verarbeite Datei: PDF_data/beg-faq-240926.pdf\n",
      "JSON-Datei gespeichert unter: PDF_data/beg-faq-240926.json\n",
      "Verarbeite Datei: PDF_data/complete.pdf\n",
      "JSON-Datei gespeichert unter: PDF_data/complete.json\n",
      "Verarbeite Datei: PDF_data/qpeb_formelsammlung.pdf\n",
      "JSON-Datei gespeichert unter: PDF_data/qpeb_formelsammlung.json\n"
     ]
    }
   ],
   "source": [
    "import fitz  # PyMuPDF\n",
    "import json\n",
    "import os\n",
    "\n",
    "# Ordner mit PDFs\n",
    "pdf_folder = 'PDF_data'\n",
    "\n",
    "def extract_content_to_json(pdf_path):\n",
    "    # PDF öffnen\n",
    "    document = fitz.open(pdf_path)\n",
    "    parsed_data = []\n",
    "\n",
    "    for page_num in range(len(document)):\n",
    "        page = document[page_num]\n",
    "        blocks = page.get_text(\"dict\")[\"blocks\"]  # Extrahiere alle Textblöcke\n",
    "\n",
    "        page_content = {\"page\": page_num + 1, \"content\": []}\n",
    "\n",
    "        for block in blocks:\n",
    "            # Überspringe leere Blöcke\n",
    "            if \"lines\" not in block:\n",
    "                continue\n",
    "\n",
    "            block_text = \"\"\n",
    "            for line in block[\"lines\"]:\n",
    "                for span in line[\"spans\"]:\n",
    "                    block_text += span[\"text\"] + \" \"  # Kombiniere den Text des Blocks\n",
    "\n",
    "            # Bereinige und strukturiere den Blocktext\n",
    "            block_text = block_text.strip()\n",
    "            if block_text:\n",
    "                page_content[\"content\"].append(block_text)\n",
    "\n",
    "        parsed_data.append(page_content)\n",
    "\n",
    "    # Konvertiere zu JSON und speichere\n",
    "    json_path = pdf_path.replace(\".pdf\", \".json\")\n",
    "    with open(json_path, \"w\", encoding=\"utf-8\") as json_file:\n",
    "        json.dump(parsed_data, json_file, ensure_ascii=False, indent=4)\n",
    "\n",
    "    print(f\"JSON-Datei gespeichert unter: {json_path}\")\n",
    "\n",
    "def process_all_pdfs_in_folder(folder_path):\n",
    "    # Durchsuche alle Dateien im Verzeichnis\n",
    "    for filename in os.listdir(folder_path):\n",
    "        if filename.endswith(\".pdf\"):  # Verarbeite nur PDF-Dateien\n",
    "            pdf_path = os.path.join(folder_path, filename)\n",
    "            print(f\"Verarbeite Datei: {pdf_path}\")\n",
    "            try:\n",
    "                extract_content_to_json(pdf_path)\n",
    "            except Exception as e:\n",
    "                print(f\"Fehler beim Verarbeiten von {pdf_path}: {e}\")\n",
    "\n",
    "\n",
    "# Verarbeite alle PDFs im angegebenen Ordner\n",
    "process_all_pdfs_in_folder(pdf_folder)\n",
    "\n"
   ]
  },
  {
   "cell_type": "code",
   "execution_count": 25,
   "id": "f2c23ec3-889e-4b25-adc1-6f67039c6531",
   "metadata": {},
   "outputs": [
    {
     "data": {
      "text/plain": [
       "<function list.insert(index, object, /)>"
      ]
     },
     "execution_count": 25,
     "metadata": {},
     "output_type": "execute_result"
    }
   ],
   "source": []
  },
  {
   "cell_type": "code",
   "execution_count": null,
   "id": "1504c371-fc19-4994-8e7d-c28008ed07c9",
   "metadata": {},
   "outputs": [],
   "source": []
  }
 ],
 "metadata": {
  "kernelspec": {
   "display_name": "Python 3 (ipykernel)",
   "language": "python",
   "name": "python3"
  },
  "language_info": {
   "codemirror_mode": {
    "name": "ipython",
    "version": 3
   },
   "file_extension": ".py",
   "mimetype": "text/x-python",
   "name": "python",
   "nbconvert_exporter": "python",
   "pygments_lexer": "ipython3",
   "version": "3.12.1"
  }
 },
 "nbformat": 4,
 "nbformat_minor": 5
}
